{
 "cells": [
  {
   "cell_type": "markdown",
   "id": "b4a834f5-69bb-4c5a-b1ec-3af07b4479d9",
   "metadata": {},
   "source": [
    "# Module 6\n",
    "### Peer-graded Assignment: Submit Your Work and Grade Your Peers"
   ]
  },
  {
   "cell_type": "markdown",
   "id": "7e955514-d863-41bf-80b8-0720cf8a8f1a",
   "metadata": {},
   "source": [
    "# Data Science Tools and Ecosystem"
   ]
  },
  {
   "cell_type": "markdown",
   "id": "b0892694-5f48-4343-bb39-43e58a4c149a",
   "metadata": {},
   "source": [
    "In this notebook, Data Science Tools and Ecosystem are summarized."
   ]
  },
  {
   "cell_type": "markdown",
   "id": "a74e4c88-3435-4a3a-9011-23de1d3d1389",
   "metadata": {
    "tags": []
   },
   "source": [
    "**Objectives:**\n",
    "- List popular languages for Data Science\n",
    "- List commonly used libraries used by Data Scientists\n",
    "- List commonly used  Data Science tools"
   ]
  },
  {
   "cell_type": "markdown",
   "id": "ace85e30-92ca-43b1-a3fe-4626dd263a91",
   "metadata": {},
   "source": [
    "Some of the popular languages that Data Scientists use are:\n",
    "1. Python\n",
    "2. SQL\n",
    "3. R\n",
    "4. Java\n",
    "5. Julia\n",
    "6. Scala\n",
    "7. C++\n",
    "8. C\n",
    "9. JavaScript\n",
    "10. Spark"
   ]
  },
  {
   "cell_type": "markdown",
   "id": "828641b6-a892-4466-bfa6-2fe0cfe9670e",
   "metadata": {},
   "source": [
    "Some of the commonly used libraries used by Data Scientists include:\n",
    "1. Pandas\n",
    "2. Scipy\n",
    "3. Matplotlib\n",
    "4. Numpy\n",
    "5. Scikit-learn\n",
    "6. Keras\n",
    "7. PyTorch"
   ]
  },
  {
   "cell_type": "markdown",
   "id": "3579bcbd-5a19-4766-bb8f-dba149402aef",
   "metadata": {},
   "source": [
    "| Data Science Tools |\n",
    "| -------------|\n",
    "| Jupyter Notebook |\n",
    "| RStudio |\n",
    "| Spyder |"
   ]
  },
  {
   "cell_type": "markdown",
   "id": "202b931f-c4dd-45ad-92bf-b1e324e8cc78",
   "metadata": {
    "tags": []
   },
   "source": [
    "### Below are a few examples of evaluating arithmetic expressions in Python"
   ]
  },
  {
   "cell_type": "code",
   "execution_count": 3,
   "id": "2fea45d8-b31b-4802-bd5e-c6bd5fc37209",
   "metadata": {
    "tags": []
   },
   "outputs": [
    {
     "name": "stdout",
     "output_type": "stream",
     "text": [
      "17\n",
      "Answer of sample arithmetic expression '(3*4)+5' is: 17\n"
     ]
    }
   ],
   "source": [
    "# This a simple arithmetic expression to mutiply then add integers\n",
    "ex = (3*4)+5\n",
    "print(ex)\n",
    "print(\"Answer of sample arithmetic expression '(3*4)+5' is: \"+str(ex))"
   ]
  },
  {
   "cell_type": "code",
   "execution_count": 4,
   "id": "05ddeee1-fa13-4e11-aed0-2bb21a0c5a4d",
   "metadata": {
    "tags": []
   },
   "outputs": [
    {
     "name": "stdout",
     "output_type": "stream",
     "text": [
      "3.3333333333333335\n",
      "200 minutes is 3.3333333333333335 hours\n"
     ]
    }
   ],
   "source": [
    "# This will convert 200 minutes to hours by diving by 60\n",
    "mins = 200\n",
    "hours = mins/60\n",
    "print(hours)\n",
    "print(str(mins)+\" minutes is \"+str(hours)+\" hours\")"
   ]
  },
  {
   "cell_type": "markdown",
   "id": "e559af6f-81a6-41b7-b546-701c5f0751b1",
   "metadata": {},
   "source": [
    "## Author\n",
    "Sayali More"
   ]
  }
 ],
 "metadata": {
  "kernelspec": {
   "display_name": "Python",
   "language": "python",
   "name": "conda-env-python-py"
  },
  "language_info": {
   "codemirror_mode": {
    "name": "ipython",
    "version": 3
   },
   "file_extension": ".py",
   "mimetype": "text/x-python",
   "name": "python",
   "nbconvert_exporter": "python",
   "pygments_lexer": "ipython3",
   "version": "3.7.12"
  }
 },
 "nbformat": 4,
 "nbformat_minor": 5
}
